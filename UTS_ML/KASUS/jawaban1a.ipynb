{
 "cells": [
  {
   "cell_type": "markdown",
   "metadata": {},
   "source": [
    "<img src=\"https://upload.wikimedia.org/wikipedia/commons/6/68/LOGO_UEU_BY_ASU-06.png\" width=50% height=50%>\n",
    "\n",
    "<table style=\"width:75%\">\n",
    "  <tr>\n",
    "    <td><b>Dosen Pengampu</b></td>\n",
    "    <td>Jefry Sunupurwa Asri , S.Kom., M.Kom.</td>\n",
    "   </tr>\n",
    "  <tr>\n",
    "    <td><b>Mahasiswa</b></td>\n",
    "    <td>Bagus Rosyid Hamdani</td>\n",
    "  </tr>\n",
    "  <tr>\n",
    "    <td><b>NIM</b></td>\n",
    "    <td>20210801467</td>\n",
    "  </tr>\n",
    "  <tr>\n",
    "    <td><b>Jurusan</b></td>\n",
    "    <td>Teknik Informatika</td>\n",
    "  </tr>\n",
    "  <tr>\n",
    "    <td><b>Mata Kuliah</b></td>\n",
    "    <td>Machine Learning</td>\n",
    "  </tr>\n",
    "</table>"
   ]
  },
  {
   "cell_type": "markdown",
   "metadata": {},
   "source": [
    "# *UTS*"
   ]
  },
  {
   "cell_type": "markdown",
   "metadata": {},
   "source": [
    " \n",
    "1)\tSempurnakan Data Set \n",
    "Universitas Esa Unggul memiliki detail mahasiswa sebagai berikut : \n",
    "Ani, Budi, Joni, Jono dan Lono \n",
    "Setiap mahasiswa dating ke kampus mulai dari hari senin sampai minggu \n",
    "Untuk melakukan kegiatan kuliah \n",
    "Ani menghabiskan biaya 30000 dikampus setiap datang \n",
    "Budi menghabiskan biaya 35000 dikampus setiap datang \n",
    "Joni menghabiskan biaya 20000 dikampus setiap datang \n",
    "Jono 25000 dan Lono 15000 \n",
    "HARI \tDATANG \tBIAYA \tMAHASISWA \n",
    "Senin \t2 \t30000x2 \tAni \n",
    "Selasa \t3 \t35000x3 \tBudi \n",
    "Rabu \t4 \t25000x4 \tJono \n",
    "Kamis \t1 \t15000x1 \tLono \n",
    "Jumat \t2 \t20000x2 \tJoni \n",
    "Sabtu \t5 \t30000x5 \tAni \n",
    "Minggu \t2 \t35000x2 \tBudi \n",
    " \n",
    "a)\tBerapa rata-rata mahasiswa datang pada minggu ini? \n",
    "\n",
    " "
   ]
  },
  {
   "cell_type": "markdown",
   "metadata": {},
   "source": [
    "# Dataset"
   ]
  },
  {
   "cell_type": "code",
   "execution_count": 70,
   "metadata": {},
   "outputs": [],
   "source": [
    "import pandas as pd"
   ]
  },
  {
   "cell_type": "code",
   "execution_count": 71,
   "metadata": {},
   "outputs": [],
   "source": [
    "data = {\n",
    "    \"hari\": [\"Senin\", \"Selasa\", \"Rabu\", \"Kamis\", \"Jumat\", \"Sabtu\", \"Minggu\"],\n",
    "    \"hari_datang\": [2, 3, 4, 1, 2, 5, 2],\n",
    "    \"biaya\": [2 * 30000, 3 * 35000, 4 * 25000, 1 * 15000, 2 * 20000, 5 * 30000, 2 * 35000],\n",
    "    \"mahasiswa\": [\"Ani\", \"Budi\", \"Jono\", \"Lono\", \"Jono\", \"Ani\", \"Budi\"],\n",
    "}\n",
    "\n",
    "# DataFrame\n",
    "df = pd.DataFrame(data)"
   ]
  },
  {
   "cell_type": "code",
   "execution_count": 73,
   "metadata": {},
   "outputs": [
    {
     "name": "stdout",
     "output_type": "stream",
     "text": [
      "Rata-rata mahasiswa datang pada minggu ini: 2.7142857142857144\n"
     ]
    }
   ],
   "source": [
    "print(\"Rata-rata mahasiswa datang pada minggu ini:\", df[\"hari_datang\"].mean())"
   ]
  }
 ],
 "metadata": {
  "kernelspec": {
   "display_name": "Python 3",
   "language": "python",
   "name": "python3"
  },
  "language_info": {
   "codemirror_mode": {
    "name": "ipython",
    "version": 3
   },
   "file_extension": ".py",
   "mimetype": "text/x-python",
   "name": "python",
   "nbconvert_exporter": "python",
   "pygments_lexer": "ipython3",
   "version": "3.11.5"
  }
 },
 "nbformat": 4,
 "nbformat_minor": 2
}
